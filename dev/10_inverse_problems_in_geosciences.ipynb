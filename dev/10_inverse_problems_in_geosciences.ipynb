{
 "cells": [
  {
   "cell_type": "markdown",
   "metadata": {},
   "source": [
    "# Inverse problems in Geosciences  \n",
    "Geosciences as a field are a prime example for inverse problems. A lot of problems in geosciences are ill-posed, fundamentally due to the lack of observation data. As direct observations in the subsurface are limited to trenches, pits (not really deep) and boreholes (one dimensional), the majority of the subsurface has to be explored via indirect methods.  \n",
    "However, also data from indirect observation methods do not solve a fundamental problem in geosciences:  \n",
    "<center>*Although being totally deterministic, uncertainty remains as we cannot observe the whole system.*</center>  \n",
    "The deepest direct observation we have is the [Kola Superdeep Borehole](https://en.wikipedia.org/wiki/Kola_Superdeep_Borehole) with a final depth of 12,262 metres below the ground level. While still the deepest borehole, it is not the longest borehole worldwide anymore, as progress in (sub-)horizontal drilling technique facilitated the construction in long horizontal boreholes.  \n",
    "\n",
    "However, having drilled 12 km in the Earth means that we penetrated 0.19 % of the Earth's radius, i.e. the distance to the center. To put that into perspective, if Earth was an average apple (with a diameter of 70 mm), we would not even have drilled through its skin (which has an average thickness of 0.3 mm)!  \n",
    "\n",
    "So how do scientists know the internal structure of the Earth? By using indirect observation techniques, in this case waves triggered by Earthquakes (let's call them EQ-waves). In this field of science called seismology, the location of an Earthquake is important to know. However, seismographs (the measuring devices) only register the magnitude, direction and time of arriving EQ-waves. For estimating the location of the origin of the earthquake, the __hypocenter__ (whose lateral position projected to the Earth's surface is called __epicenter__) we need to solve an __inverse problem__."
   ]
  }
 ],
 "metadata": {
  "kernelspec": {
   "display_name": "Python 3",
   "language": "python",
   "name": "python3"
  },
  "language_info": {
   "codemirror_mode": {
    "name": "ipython",
    "version": 3
   },
   "file_extension": ".py",
   "mimetype": "text/x-python",
   "name": "python",
   "nbconvert_exporter": "python",
   "pygments_lexer": "ipython3",
   "version": "3.5.4"
  }
 },
 "nbformat": 4,
 "nbformat_minor": 2
}
