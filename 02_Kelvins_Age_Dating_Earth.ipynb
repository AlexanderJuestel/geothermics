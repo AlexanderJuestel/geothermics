{
 "cells": [
  {
   "cell_type": "markdown",
   "metadata": {},
   "source": [
    "# Kelvin's age dating of the Earth  \n",
    "As already discussed in the lecture, Kelvin calculated the age of the Earth using \"hard physical facts\". In this notebook, we want to follow his thoughts and try to plot the graphs he drawed\n",
    "\n",
    "<img src='imgs/kelvin.png' style=\"float: right; width: 27%; margin-right: 3%; margin-bottom: 0.5em;\">\n"
   ]
  },
  {
   "cell_type": "code",
   "execution_count": 2,
   "metadata": {},
   "outputs": [],
   "source": [
    "import numpy as np\n",
    "import matplotlib.pyplot as plt\n",
    "%matplotlib inline\n",
    "\n"
   ]
  },
  {
   "cell_type": "markdown",
   "metadata": {},
   "source": [
    "How did Kelvin calculate the age of the Earth? His \"physical facts\" were some measurements, but also some more approximations and "
   ]
  },
  {
   "cell_type": "code",
   "execution_count": 29,
   "metadata": {},
   "outputs": [
    {
     "name": "stdout",
     "output_type": "stream",
     "text": [
      "The mean geothermal gradient over the borehole is 26.71 K/km\n"
     ]
    }
   ],
   "source": [
    "grad = np.round(((temp[1]-temp[0])/(depth[1]-depth[0])*-1000),2)\n",
    "print(\"The mean geothermal gradient over the borehole is {} K/km\".format(grad))"
   ]
  },
  {
   "cell_type": "markdown",
   "metadata": {},
   "source": [
    "This is obviously just an approximation/simplification, - what could be possible reasons for a deviation from a straight line?"
   ]
  },
  {
   "cell_type": "markdown",
   "metadata": {},
   "source": [
    "The real geothermal gradient shows variation with depth, reasons for this may be:  \n",
    "\n",
    "* layers of different thermal conductivities, i.e. heteorogeneity\n",
    "* (vertical) advective heat transport    \n",
    "\n",
    "Core measurements of the RWTH-1 well yielded an average thermal conductivity of the rocks of 2.99 W m${-1}$ K$^{-1}$ (using the geometric mean). If we neglect possible advective heat transport, we can estimate the specific heat flow in this area by applying _Fourier's Law of Heat Conduction_:  \n",
    "\n",
    "$$q = -\\lambda \\nabla T$$\n",
    "\n",
    "As we assess just the vertical specific heat flow, $\\nabla T$ becomes $\\frac{\\partial T}{\\partial z}$."
   ]
  },
  {
   "cell_type": "code",
   "execution_count": 35,
   "metadata": {},
   "outputs": [
    {
     "name": "stdout",
     "output_type": "stream",
     "text": [
      "The magnitude of the average specific heat flow is 79.86 mW/m²\n"
     ]
    }
   ],
   "source": [
    "tc = 2.99 # thermal conductivity in W/(mK)  \n",
    "q = -tc * grad  \n",
    "print(\"The magnitude of the average specific heat flow is {} mW/m²\"\n",
    "      .format(np.round(np.abs(q),2)))"
   ]
  },
  {
   "cell_type": "markdown",
   "metadata": {},
   "source": [
    "If we compare this value to the position on Aachen on a [Heat flow map](http://www.geni.org/globalenergy/library/renewable-energy-resources/europe/Geothermal/Geothermal%20heat%20-%20Potential_files/6-1-100.gif), we see that despite **a lot** of simplifications, the calculated specific heat flow is still in the right interval."
   ]
  }
 ],
 "metadata": {
  "kernelspec": {
   "display_name": "Python 3",
   "language": "python",
   "name": "python3"
  },
  "language_info": {
   "codemirror_mode": {
    "name": "ipython",
    "version": 3
   },
   "file_extension": ".py",
   "mimetype": "text/x-python",
   "name": "python",
   "nbconvert_exporter": "python",
   "pygments_lexer": "ipython3",
   "version": "3.6.5"
  },
  "latex_envs": {
   "LaTeX_envs_menu_present": true,
   "autocomplete": true,
   "bibliofile": "biblio.bib",
   "cite_by": "apalike",
   "current_citInitial": 1,
   "eqLabelWithNumbers": true,
   "eqNumInitial": 1,
   "hotkeys": {
    "equation": "Ctrl-E",
    "itemize": "Ctrl-I"
   },
   "labels_anchors": false,
   "latex_user_defs": false,
   "report_style_numbering": false,
   "user_envs_cfg": false
  },
  "toc": {
   "colors": {
    "hover_highlight": "#DAA520",
    "navigate_num": "#000000",
    "navigate_text": "#333333",
    "running_highlight": "#FF0000",
    "selected_highlight": "#FFD700",
    "sidebar_border": "#EEEEEE",
    "wrapper_background": "#FFFFFF"
   },
   "moveMenuLeft": true,
   "nav_menu": {
    "height": "21px",
    "width": "255px"
   },
   "navigate_menu": true,
   "number_sections": false,
   "sideBar": true,
   "threshold": 4,
   "toc_cell": false,
   "toc_section_display": "block",
   "toc_window_display": false,
   "widenNotebook": false
  }
 },
 "nbformat": 4,
 "nbformat_minor": 2
}
