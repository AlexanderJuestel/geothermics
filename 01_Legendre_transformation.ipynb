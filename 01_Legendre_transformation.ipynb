{
 "cells": [
  {
   "cell_type": "markdown",
   "metadata": {},
   "source": [
    "# Legendre transformation\n",
    "\n",
    "A legendre transformation is used in thermodynamics to derive different relation from one **fundamental** relation, the *internal energy*.  \n",
    "The *internal energy* is defined as:  \n",
    "\n",
    "$$ U(S,V) = TS - pV \\\\\n",
    "dU = TdS - pdV $$\n",
    "\n",
    "and comprises the heat given *to* the system (TdS) and the volumetric work done *by* the system (PdV), all in Joule. These two terms, TdS and pdV are sets of *conjugate variables*.\n",
    "\n",
    "By transforming the internal energy, we can arrive at other thermodynamic expressions, such as Helmholtz Energy (F(T,V)), Enthalpy (H(S,p)), or Gibbs Free Energy (G(T,p)). These expressions also consist of pairs of conjugate variables, which differ from the conjugate variables of the internal energy.  \n",
    "\n",
    "So, basically the legendre transformation transforms a function of a set of variables (internal energy) to another function of a set of *conjugate* variables (Helmholtz Energy, Enthalpy, etc).\n",
    "\n",
    "Basically, it's all about the product rule:  \n",
    "\n",
    "If (x,y) is a set of conjugate variables, then their total differential is  \n",
    "\n",
    "$$ d(xy) = xdy + ydx $$\n",
    "\n",
    "This expression relates the variation dy in quantity y to the variation dx in quantitiy x. \n",
    "If we apply the product rule to a function f(x,y), we get\n",
    "\n",
    "$$ df(x,y) = \\bigg(\\frac{\\partial f}{\\partial x} \\bigg)_y dx + \\bigg(\\frac{\\partial f}{\\partial y}\\bigg)_x dy $$\n",
    "\n"
   ]
  },
  {
   "cell_type": "markdown",
   "metadata": {},
   "source": [
    "## Conjugate variables\n",
    "A force is always accompanied by a displacement. Those two together are called a pair of *conjugate variables*. For example, pressure *p* and volume *V* are such a cojugate pair.  \n",
    "\n",
    "An applied pressure (*p*) causes a change in volume (*dV*)."
   ]
  }
 ],
 "metadata": {
  "anaconda-cloud": {},
  "kernelspec": {
   "display_name": "Python [default]",
   "language": "python",
   "name": "python3"
  },
  "language_info": {
   "codemirror_mode": {
    "name": "ipython",
    "version": 3
   },
   "file_extension": ".py",
   "mimetype": "text/x-python",
   "name": "python",
   "nbconvert_exporter": "python",
   "pygments_lexer": "ipython3",
   "version": "3.5.1"
  }
 },
 "nbformat": 4,
 "nbformat_minor": 0
}
