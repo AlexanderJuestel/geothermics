{
 "cells": [
  {
   "cell_type": "markdown",
   "metadata": {},
   "source": [
    "# Transient heat diffusion  \n",
    "## solving the heat transport equation\n"
   ]
  },
  {
   "cell_type": "markdown",
   "metadata": {},
   "source": [
    "\n",
    "$(\\frac{\\partial u}{\\partial t} = k \\frac{\\partial^2 u}{\\partial x^2})$\n",
    "\n",
    "solution after https://kitchingroup.cheme.cmu.edu/blog/2013/03/07/Transient-heat-conduction-partial-differential-equations/ \n",
    "\n",
    "Idea:  \n",
    "* Make interactive plot of time vs diffusion\n",
    "* Make 3D Plot of diffusion (x: space, y: time, z:heat)  "
   ]
  }
 ],
 "metadata": {
  "kernelspec": {
   "display_name": "Python 3",
   "language": "python",
   "name": "python3"
  },
  "language_info": {
   "codemirror_mode": {
    "name": "ipython",
    "version": 3
   },
   "file_extension": ".py",
   "mimetype": "text/x-python",
   "name": "python",
   "nbconvert_exporter": "python",
   "pygments_lexer": "ipython3",
   "version": "3.6.8"
  }
 },
 "nbformat": 4,
 "nbformat_minor": 2
}
