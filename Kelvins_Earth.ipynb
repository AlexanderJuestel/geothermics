{
 "cells": [
  {
   "cell_type": "markdown",
   "metadata": {},
   "source": [
    "# Kelvin age dating of the Earth  \n",
    "In this notebook, we take a look at temperature data from the RWTH-1 Borehole, drilled near the main building of the RWTH. Its initial purpose was to provide geothermal energy for space heating the newly built [Super-C](https://de.wikipedia.org/wiki/SuperC). Unfotunately, originally predicted **production** temperatures of 60 °C were not met. The water, pumped from a depth of about 2 km, has a temperature of just 31 °C when reaching the surface.  \n",
    "\n",
    "The task is to visualize the average temperature gradient in the borehole. For this, we need at least information about temperatures at the surface and at depth:  \n",
    "* T$_{surface}$ = 10.5 °C $\\pm$ 2 °C  \n",
    "* T$_{2550 m}$ = 78.6 °C $\\pm$ 3 °C"
   ]
  },




