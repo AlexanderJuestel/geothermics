{
 "cells": [
  {
   "cell_type": "markdown",
   "metadata": {},
   "source": [
    "# (I)Python introduction\n",
    "\n",
    "Python is a programming language widely used. It has a lot of benefits:  \n",
    "* easy to pick up  \n",
    "* interpreting language, no compiling needed  \n",
    "* **Open Source**  \n",
    "* and thus an active community  \n",
    "\n",
    "We will use Python for programming exercises in the practicals. Theoretical background material will also be presented in this python layout, called a \"notebook\""
   ]
  },
  {
   "cell_type": "markdown",
   "metadata": {},
   "source": [
    "## Contents  \n",
    "\n",
    "* Define variables  \n",
    "* Use Python as a calculator  \n",
    "* Define an array  \n",
    "* Finding idices in an array\n",
    "* Creating a sequence of numbers\n",
    "* Define a matrix,\n",
    "* Finding indices in a matrix\n",
    "* Loops\n",
    "* Plotting\n"
   ]
  },
  {
   "cell_type": "markdown",
   "metadata": {},
   "source": [
    "In Python, creating a variable is easy Just type the name followed by its value:\n",
    " e.g. ```x=3```  \n",
    "Python is case-sensitive, so ```x=3``` and ```X=3``` are not the same variable.  \n",
    "\n",
    "### Exercise:\n",
    "Create three variables x, y, and z.  \n",
    "x should be equal to 6, y and z will be explained on the next slide.\n"
   ]
  },
  {
   "cell_type": "code",
   "execution_count": null,
   "metadata": {
    "collapsed": false
   },
   "outputs": [],
   "source": [
    "x = \n",
    "y = \n",
    "z = "
   ]
  },
  {
   "cell_type": "markdown",
   "metadata": {},
   "source": [
    "## Define an array \n",
    "Creating a vector (a 1D array) is rather simple. In Python, you can use lists or numpy arrays.\n",
    "Numpy is a library for numerical operations. Those who know matlab, will be very familiar with numpy.  \n",
    "Numpy is a library and can thus be imported like:  \n",
    "```python  \n",
    "import numpy as np  \n",
    "```\n",
    "\n",
    "### Exercise: \n",
    "Create a vector with 5 columns and the values 2,4,8,5,9.  \n",
    "e shall be the fourth index of v  \n",
    "Create a vector v2, equal to v.*v."
   ]
  },
  {
   "cell_type": "code",
   "execution_count": 1,
   "metadata": {
    "collapsed": true
   },
   "outputs": [],
   "source": [
    "import numpy as np"
   ]
  },
  {
   "cell_type": "markdown",
   "metadata": {},
   "source": [
    "## Create a sequence of numbers  \n",
    "Creating each index of a vector is tedious. If you want to create a sequence of numbers, you can use numpy functions like linspace or logspace.  \n",
    "linspace(x,y,z), creates a sequence with z values from starting point x to end point y (with x < y). It can be called similar to matlab\n",
    "\n",
    "```python  \n",
    "x = np.linspace(0,500,35)\n",
    "```\n",
    "\n",
    "### Exercise:\n",
    "Create a sequence x from 1 to 10\n"
   ]
  },
  {
   "cell_type": "code",
   "execution_count": null,
   "metadata": {
    "collapsed": true
   },
   "outputs": [],
   "source": []
  },
  {
   "cell_type": "markdown",
   "metadata": {},
   "source": [
    "## Loops \n",
    "\n",
    "Loops are essential in programming, e.g. calculating\n",
    "y=a+b*x+c*x2 in an interval from x=1:10 and plot it.\n",
    "To calculate y, you first have to define x, a, b, and c.\n",
    "\n",
    "A loop starts with a key-word, like for, followed by an iterator.\n",
    "For y, the loop may look like this\n",
    "```python\n",
    "for i in range(len(x)):\n",
    "    y[i]=a+b*x[i]+c*x[i]**2\n",
    "```\n",
    "you may have to pre-define y."
   ]
  },
  {
   "cell_type": "code",
   "execution_count": null,
   "metadata": {
    "collapsed": true
   },
   "outputs": [],
   "source": []
  },
  {
   "cell_type": "markdown",
   "metadata": {},
   "source": [
    "It is also possible to calculate a polynom without a loop thanks to numpy.  \n",
    "Try it with the polynom z.  \n",
    "$$ z = \\frac{a}{2} + b \\times \\frac{c}{2} \\times x + \\sqrt{b \\times \\frac{c}{2}} \\times x^2 $$"
   ]
  },
  {
   "cell_type": "code",
   "execution_count": null,
   "metadata": {
    "collapsed": true
   },
   "outputs": [],
   "source": []
  },
  {
   "cell_type": "markdown",
   "metadata": {},
   "source": [
    "## Plotting\n",
    "\n",
    "Plotting is often the aim of a script. In Python, there are many libraries (I'll provide you a few in a follow up notebook). One is `matplotlib`. We will use `matplotlib`to plot x vs the polynoms y and z. \n",
    "\n",
    "### Exercise: \n",
    "Create a plot where we plot the two polynoms in one window. Assume those are functions of two different coffe brands with different „efficiency“.\n",
    "Benenne x mit „number of cups of coffee“ und y mit „additional minutes awake“.\n",
    "\n",
    "Be sure that you can distinguish the two plots, maybe by different colors, line styles and a legend?\n"
   ]
  },
  {
   "cell_type": "code",
   "execution_count": 10,
   "metadata": {
    "collapsed": true
   },
   "outputs": [],
   "source": [
    "import matplotlib.pyplot as plt\n",
    "%matplotlib inline"
   ]
  },
  {
   "cell_type": "code",
   "execution_count": null,
   "metadata": {
    "collapsed": true
   },
   "outputs": [],
   "source": []
  }
 ],
 "metadata": {
  "kernelspec": {
   "display_name": "Python 2",
   "language": "python",
   "name": "python2"
  },
  "language_info": {
   "codemirror_mode": {
    "name": "ipython",
    "version": 2
   },
   "file_extension": ".py",
   "mimetype": "text/x-python",
   "name": "python",
   "nbconvert_exporter": "python",
   "pygments_lexer": "ipython2",
   "version": "2.7.9"
  }
 },
 "nbformat": 4,
 "nbformat_minor": 0
}
