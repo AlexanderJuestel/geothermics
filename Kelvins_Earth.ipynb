
# Kelvin age dating of the Earth 
In the lecture, we already took a look at Kelvin s calculation of the age of the Earth, based on physical facts
These were
