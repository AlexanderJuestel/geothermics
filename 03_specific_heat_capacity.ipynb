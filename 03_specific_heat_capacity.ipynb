{
 "cells": [
  {
   "cell_type": "markdown",
   "metadata": {},
   "source": [
    "# Specific Heat Capacity\n",
    "The specific heat capacity was measured in a temperature sweep from 40 °C to 290 °C. Measured specific heat capacities and temperatures are used for a nonlinear regression in order to fit a polynom of form (Hirono and Hamada, 2010):  \n",
    "\n",
    "$$c_p(T) = a + bT + cT^2 + dT^{-1} + eT^{-2}$$ \n",
    "\n",
    "with $c_p$ in J kg$^{-1}$ K$^{-1}$ and $T$ in K.  \n",
    "\n",
    "We also use a simpler equation to fit the $c_p$ data (Clauser 2003):  \n",
    "\n",
    "$$c_p(T) = a + bT + cT^2$$  \n",
    "\n",
    "with $c_p$ in J kg$^{-1}$ K$^{-1}$ and $T$ in °C. Equations can be chosen with a `boolean` in the function:  \n",
    "\n",
    "```python\n",
    "def cp_plot(dat,n,q2):\n",
    "    if q2==False:\n",
    "        use Hirono and Hamada, 2010\n",
    "    if q2==True:\n",
    "        use Clauser 2003\n",
    "```"
   ]
  },
  {
   "cell_type": "code",
   "execution_count": 43,
   "metadata": {},
   "outputs": [],
   "source": [
    "import os, sys\n",
    "import matplotlib.pyplot as plt\n",
    "import matplotlib as m\n",
    "import numpy as np\n",
    "import itertools as it\n",
    "%matplotlib inline\n",
    "\n",
    "from scipy import optimize"
   ]
  },
  {
   "cell_type": "code",
   "execution_count": 45,
   "metadata": {},
   "outputs": [],
   "source": [
    "# function for cp fit\n",
    "def fun(x,a,b,c,d,e):\n",
    "    return a + b*x + c*x**2 + d/x + e/x**2\n",
    "def fun2(x,a,b,c):\n",
    "    return a + b*x + c*x**2\n",
    "\n",
    "def cp_plot(dat,n,q2,title):\n",
    "    \"\"\"\n",
    "    Function to calculate and plot the specific heat capacity dependent on temperature.\n",
    "    **Arguments:**\n",
    "        *dat*: array containing temperature and corresponding cp data\n",
    "        *n*: integer number of points to be ommitted in the plot\n",
    "        *q2*: boolean. If true, we use just the quadratic fit fun2. \n",
    "                       If False, the complete fit fun is used.\n",
    "    \"\"\"\n",
    "    if q2 == False:\n",
    "        T = dat[:,0]+273.15 # Temperature data in K\n",
    "        cp = dat[:,1]*1000 # cp data in J/(kg K)\n",
    "        if title == 'MR03':\n",
    "            tsim = np.linspace(40,180,500)+273.15 # regression temperature in K\n",
    "        else:\n",
    "            tsim = np.linspace(40,300,500)+273.15 # regression temperature in K\n",
    "    \n",
    "        popt, pcov = optimize.curve_fit(fun,T,cp) # nonlinear regression\n",
    "    \n",
    "        perr = np.sqrt(np.diag(pcov))\n",
    "        cpsim = fun(tsim,popt[0],popt[1],popt[2],popt[3],popt[4]) # fitted cp\n",
    "    elif q2 == True:\n",
    "        T = dat[:,0]\n",
    "        cp = dat[:,1]*1000\n",
    "        \n",
    "        tsim = np.linspace(40,250,500)\n",
    "        popt, pcov = optimize.curve_fit(fun2,T,cp)\n",
    "        perr = np.sqrt(np.diag(pcov))\n",
    "        \n",
    "        cpsim = fun2(tsim,popt[0],popt[1],popt[2])\n",
    "    \n",
    "    #plot\n",
    "    fig,ax = plt.subplots(nrows=1,ncols=1,figsize=(7,7))\n",
    "    \n",
    "    ax.scatter(T[::n],cp[::n],s=60, alpha=0.8,label=\"measured data\") # plot just every nth point\n",
    "    ax.plot(tsim,cpsim,'r-',linewidth=4, alpha=0.5, label=\"fit\")\n",
    "    ax.legend(fontsize=16,loc=4)\n",
    "    if q2 == False:\n",
    "        ax.set_xlabel(\"Temperature [K]\")\n",
    "    elif q2 == True:\n",
    "        ax.set_xlabel(\"Temperature [$^\\circ$C]\")\n",
    "    ax.set_ylabel(\"specific heat capacities J kg$^{-1}$ K$^{-1}$\")\n",
    "    ax.set_title(title)\n",
    "    m.rcParams.update({'font.size':15})\n",
    "    \n",
    "    if q2 == False:\n",
    "        ax.text(600, max(cpsim), 'c$_p$(T) = {0:.3f} + {1:.3f} T + {2:.5f} T$^2$+ {3:.3f} T$^-$$^1$ + {4:.3f} T$^-$$^2$'.format(*tuple(popt)))\n",
    "    elif q2 == True:\n",
    "        ax.text(350, max(cpsim), 'c$_p$(T) = {0:.3f} + {1:.3f} T + {2:.5f} T$^2$ '.format(*tuple(popt)))\n",
    "    fig.tight_layout()\n",
    "    plt.show()"
   ]
  },
  {
   "cell_type": "code",
   "execution_count": 46,
   "metadata": {},
   "outputs": [],
   "source": [
    "dat = np.genfromtxt('data/03_cp.dat',skip_header=1)"
   ]
  },
  {
   "cell_type": "code",
   "execution_count": 48,
   "metadata": {},
   "outputs": [
    {
     "ename": "ValueError",
     "evalue": "array must not contain infs or NaNs",
     "output_type": "error",
     "traceback": [
      "\u001b[1;31m---------------------------------------------------------------------------\u001b[0m",
      "\u001b[1;31mValueError\u001b[0m                                Traceback (most recent call last)",
      "\u001b[1;32m<ipython-input-48-00c9bc4deb97>\u001b[0m in \u001b[0;36m<module>\u001b[1;34m()\u001b[0m\n\u001b[1;32m----> 1\u001b[1;33m \u001b[0mcp_plot\u001b[0m\u001b[1;33m(\u001b[0m\u001b[0mdat\u001b[0m\u001b[1;33m,\u001b[0m\u001b[1;36m30\u001b[0m\u001b[1;33m,\u001b[0m\u001b[1;32mFalse\u001b[0m\u001b[1;33m,\u001b[0m\u001b[1;34m'MR03'\u001b[0m\u001b[1;33m)\u001b[0m\u001b[1;33m\u001b[0m\u001b[0m\n\u001b[0m",
      "\u001b[1;32m<ipython-input-45-1de5425c6aae>\u001b[0m in \u001b[0;36mcp_plot\u001b[1;34m(dat, n, q2, title)\u001b[0m\n\u001b[0;32m     22\u001b[0m             \u001b[0mtsim\u001b[0m \u001b[1;33m=\u001b[0m \u001b[0mnp\u001b[0m\u001b[1;33m.\u001b[0m\u001b[0mlinspace\u001b[0m\u001b[1;33m(\u001b[0m\u001b[1;36m40\u001b[0m\u001b[1;33m,\u001b[0m\u001b[1;36m300\u001b[0m\u001b[1;33m,\u001b[0m\u001b[1;36m500\u001b[0m\u001b[1;33m)\u001b[0m\u001b[1;33m+\u001b[0m\u001b[1;36m273.15\u001b[0m \u001b[1;31m# regression temperature in K\u001b[0m\u001b[1;33m\u001b[0m\u001b[0m\n\u001b[0;32m     23\u001b[0m \u001b[1;33m\u001b[0m\u001b[0m\n\u001b[1;32m---> 24\u001b[1;33m         \u001b[0mpopt\u001b[0m\u001b[1;33m,\u001b[0m \u001b[0mpcov\u001b[0m \u001b[1;33m=\u001b[0m \u001b[0moptimize\u001b[0m\u001b[1;33m.\u001b[0m\u001b[0mcurve_fit\u001b[0m\u001b[1;33m(\u001b[0m\u001b[0mfun\u001b[0m\u001b[1;33m,\u001b[0m\u001b[0mT\u001b[0m\u001b[1;33m,\u001b[0m\u001b[0mcp\u001b[0m\u001b[1;33m)\u001b[0m \u001b[1;31m# nonlinear regression\u001b[0m\u001b[1;33m\u001b[0m\u001b[0m\n\u001b[0m\u001b[0;32m     25\u001b[0m \u001b[1;33m\u001b[0m\u001b[0m\n\u001b[0;32m     26\u001b[0m         \u001b[0mperr\u001b[0m \u001b[1;33m=\u001b[0m \u001b[0mnp\u001b[0m\u001b[1;33m.\u001b[0m\u001b[0msqrt\u001b[0m\u001b[1;33m(\u001b[0m\u001b[0mnp\u001b[0m\u001b[1;33m.\u001b[0m\u001b[0mdiag\u001b[0m\u001b[1;33m(\u001b[0m\u001b[0mpcov\u001b[0m\u001b[1;33m)\u001b[0m\u001b[1;33m)\u001b[0m\u001b[1;33m\u001b[0m\u001b[0m\n",
      "\u001b[1;32mC:\\ProgramData\\Anaconda3\\lib\\site-packages\\scipy\\optimize\\minpack.py\u001b[0m in \u001b[0;36mcurve_fit\u001b[1;34m(f, xdata, ydata, p0, sigma, absolute_sigma, check_finite, bounds, method, jac, **kwargs)\u001b[0m\n\u001b[0;32m    660\u001b[0m         \u001b[1;31m# non-array_like `xdata`.\u001b[0m\u001b[1;33m\u001b[0m\u001b[1;33m\u001b[0m\u001b[0m\n\u001b[0;32m    661\u001b[0m         \u001b[1;32mif\u001b[0m \u001b[0mcheck_finite\u001b[0m\u001b[1;33m:\u001b[0m\u001b[1;33m\u001b[0m\u001b[0m\n\u001b[1;32m--> 662\u001b[1;33m             \u001b[0mxdata\u001b[0m \u001b[1;33m=\u001b[0m \u001b[0mnp\u001b[0m\u001b[1;33m.\u001b[0m\u001b[0masarray_chkfinite\u001b[0m\u001b[1;33m(\u001b[0m\u001b[0mxdata\u001b[0m\u001b[1;33m)\u001b[0m\u001b[1;33m\u001b[0m\u001b[0m\n\u001b[0m\u001b[0;32m    663\u001b[0m         \u001b[1;32melse\u001b[0m\u001b[1;33m:\u001b[0m\u001b[1;33m\u001b[0m\u001b[0m\n\u001b[0;32m    664\u001b[0m             \u001b[0mxdata\u001b[0m \u001b[1;33m=\u001b[0m \u001b[0mnp\u001b[0m\u001b[1;33m.\u001b[0m\u001b[0masarray\u001b[0m\u001b[1;33m(\u001b[0m\u001b[0mxdata\u001b[0m\u001b[1;33m)\u001b[0m\u001b[1;33m\u001b[0m\u001b[0m\n",
      "\u001b[1;32mC:\\ProgramData\\Anaconda3\\lib\\site-packages\\numpy\\lib\\function_base.py\u001b[0m in \u001b[0;36masarray_chkfinite\u001b[1;34m(a, dtype, order)\u001b[0m\n\u001b[0;32m   1031\u001b[0m     \u001b[1;32mif\u001b[0m \u001b[0ma\u001b[0m\u001b[1;33m.\u001b[0m\u001b[0mdtype\u001b[0m\u001b[1;33m.\u001b[0m\u001b[0mchar\u001b[0m \u001b[1;32min\u001b[0m \u001b[0mtypecodes\u001b[0m\u001b[1;33m[\u001b[0m\u001b[1;34m'AllFloat'\u001b[0m\u001b[1;33m]\u001b[0m \u001b[1;32mand\u001b[0m \u001b[1;32mnot\u001b[0m \u001b[0mnp\u001b[0m\u001b[1;33m.\u001b[0m\u001b[0misfinite\u001b[0m\u001b[1;33m(\u001b[0m\u001b[0ma\u001b[0m\u001b[1;33m)\u001b[0m\u001b[1;33m.\u001b[0m\u001b[0mall\u001b[0m\u001b[1;33m(\u001b[0m\u001b[1;33m)\u001b[0m\u001b[1;33m:\u001b[0m\u001b[1;33m\u001b[0m\u001b[0m\n\u001b[0;32m   1032\u001b[0m         raise ValueError(\n\u001b[1;32m-> 1033\u001b[1;33m             \"array must not contain infs or NaNs\")\n\u001b[0m\u001b[0;32m   1034\u001b[0m     \u001b[1;32mreturn\u001b[0m \u001b[0ma\u001b[0m\u001b[1;33m\u001b[0m\u001b[0m\n\u001b[0;32m   1035\u001b[0m \u001b[1;33m\u001b[0m\u001b[0m\n",
      "\u001b[1;31mValueError\u001b[0m: array must not contain infs or NaNs"
     ]
    }
   ],
   "source": [
    "cp_plot(dat,30,False,'MR03')"
   ]
  }
 ],
 "metadata": {
  "hide_input": false,
  "kernelspec": {
   "display_name": "Python 3",
   "language": "python",
   "name": "python3"
  },
  "language_info": {
   "codemirror_mode": {
    "name": "ipython",
    "version": 3
   },
   "file_extension": ".py",
   "mimetype": "text/x-python",
   "name": "python",
   "nbconvert_exporter": "python",
   "pygments_lexer": "ipython3",
   "version": "3.6.0"
  },
  "latex_envs": {
   "LaTeX_envs_menu_present": true,
   "autocomplete": true,
   "bibliofile": "biblio.bib",
   "cite_by": "apalike",
   "current_citInitial": 1,
   "eqLabelWithNumbers": true,
   "eqNumInitial": 1,
   "hotkeys": {
    "equation": "Ctrl-E",
    "itemize": "Ctrl-I"
   },
   "labels_anchors": false,
   "latex_user_defs": false,
   "report_style_numbering": false,
   "user_envs_cfg": false
  }
 },
 "nbformat": 4,
 "nbformat_minor": 2
}
