{
 "cells": [
  {
   "cell_type": "markdown",
   "metadata": {},
   "source": [
    "# The thermal response test\n",
    "\n",
    "\n",
    "When installing a shallow geothermal system, typically borehole heat exchangers (BHE), it is important to determine *thermal conductivity* as well as possible. A precise characterization of this property allows a correct design of the system, avoiding over or undersizing of the system.\n",
    "\n",
    "\n",
    "\n",
    "\n",
    "\n",
    "$$ T = T_\\infty + \\frac{Q}{4\\pi\\lambda} \\times ln(1 + \\frac{t_c}{\\Delta t}) $$"
   ]
  },
  {
   "cell_type": "code",
   "execution_count": null,
   "metadata": {},
   "outputs": [],
   "source": []
  }
 ],
 "metadata": {
  "kernelspec": {
   "display_name": "Python 3",
   "language": "python",
   "name": "python3"
  },
  "language_info": {
   "codemirror_mode": {
    "name": "ipython",
    "version": 3
   },
   "file_extension": ".py",
   "mimetype": "text/x-python",
   "name": "python",
   "nbconvert_exporter": "python",
   "pygments_lexer": "ipython3",
   "version": "3.6.5"
  }
 },
 "nbformat": 4,
 "nbformat_minor": 2
}
